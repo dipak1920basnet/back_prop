{
 "cells": [
  {
   "cell_type": "code",
   "execution_count": 2,
   "id": "6bede514",
   "metadata": {},
   "outputs": [],
   "source": [
    "import numpy as np \n",
    "import pandas as pd"
   ]
  },
  {
   "cell_type": "code",
   "execution_count": 3,
   "id": "4a05b9ac",
   "metadata": {},
   "outputs": [],
   "source": [
    "df = pd.DataFrame([[8,8,4],[7,9,5],[6,10,6],[5,12,7]], columns=[\"cgpa\",\"profile_score\",\"lpa\"])"
   ]
  },
  {
   "cell_type": "code",
   "execution_count": 4,
   "id": "7d766355",
   "metadata": {},
   "outputs": [
    {
     "data": {
      "text/html": [
       "<div>\n",
       "<style scoped>\n",
       "    .dataframe tbody tr th:only-of-type {\n",
       "        vertical-align: middle;\n",
       "    }\n",
       "\n",
       "    .dataframe tbody tr th {\n",
       "        vertical-align: top;\n",
       "    }\n",
       "\n",
       "    .dataframe thead th {\n",
       "        text-align: right;\n",
       "    }\n",
       "</style>\n",
       "<table border=\"1\" class=\"dataframe\">\n",
       "  <thead>\n",
       "    <tr style=\"text-align: right;\">\n",
       "      <th></th>\n",
       "      <th>cgpa</th>\n",
       "      <th>profile_score</th>\n",
       "      <th>lpa</th>\n",
       "    </tr>\n",
       "  </thead>\n",
       "  <tbody>\n",
       "    <tr>\n",
       "      <th>0</th>\n",
       "      <td>8</td>\n",
       "      <td>8</td>\n",
       "      <td>4</td>\n",
       "    </tr>\n",
       "    <tr>\n",
       "      <th>1</th>\n",
       "      <td>7</td>\n",
       "      <td>9</td>\n",
       "      <td>5</td>\n",
       "    </tr>\n",
       "    <tr>\n",
       "      <th>2</th>\n",
       "      <td>6</td>\n",
       "      <td>10</td>\n",
       "      <td>6</td>\n",
       "    </tr>\n",
       "    <tr>\n",
       "      <th>3</th>\n",
       "      <td>5</td>\n",
       "      <td>12</td>\n",
       "      <td>7</td>\n",
       "    </tr>\n",
       "  </tbody>\n",
       "</table>\n",
       "</div>"
      ],
      "text/plain": [
       "   cgpa  profile_score  lpa\n",
       "0     8              8    4\n",
       "1     7              9    5\n",
       "2     6             10    6\n",
       "3     5             12    7"
      ]
     },
     "execution_count": 4,
     "metadata": {},
     "output_type": "execute_result"
    }
   ],
   "source": [
    "df"
   ]
  },
  {
   "cell_type": "code",
   "execution_count": 9,
   "id": "29fae1ed",
   "metadata": {},
   "outputs": [],
   "source": [
    "def initialize_parameters(layer_dims):\n",
    "    np.random.seed(3)\n",
    "    parameters = {}\n",
    "    L = len(layer_dims)\n",
    "\n",
    "    for l in range(1,L):\n",
    "        parameters[\"w\" + str(l)] = np.ones((layer_dims[l-1],layer_dims[l]))*0.1\n",
    "        parameters[\"b\" + str(l)] = np.zeros((layer_dims[l],1))\n",
    "\n",
    "    return parameters"
   ]
  },
  {
   "cell_type": "code",
   "execution_count": 10,
   "id": "d9a1d170",
   "metadata": {},
   "outputs": [
    {
     "data": {
      "text/plain": [
       "{'w1': array([[0.1, 0.1],\n",
       "        [0.1, 0.1]]),\n",
       " 'b1': array([[0.],\n",
       "        [0.]]),\n",
       " 'w2': array([[0.1],\n",
       "        [0.1]]),\n",
       " 'b2': array([[0.]])}"
      ]
     },
     "execution_count": 10,
     "metadata": {},
     "output_type": "execute_result"
    }
   ],
   "source": [
    "initialize_parameters([2,2,1])"
   ]
  },
  {
   "cell_type": "code",
   "execution_count": 11,
   "id": "90843b7d",
   "metadata": {},
   "outputs": [],
   "source": [
    "def linear_forward(A_prev, w,b):\n",
    "    Z = np.dot(w.T,A_prev) + b\n",
    "\n",
    "    return Z\n"
   ]
  },
  {
   "cell_type": "code",
   "execution_count": 12,
   "id": "d21660f9",
   "metadata": {},
   "outputs": [],
   "source": [
    "# Forward prop\n",
    "\n",
    "def L_layer_forward(X, prarameters):\n",
    "\n",
    "    A = X\n",
    "    L = len(prarameters) // 2\n",
    "\n",
    "    for l in range(1,L+1):\n",
    "        A_prev = A\n",
    "        wl = prarameters[\"w\" + str(l)]\n",
    "        bl = prarameters[\"b\" + str(l)]\n",
    "\n",
    "        A = linear_forward(A_prev,wl,bl)\n",
    "\n",
    "    return A,A_prev\n"
   ]
  },
  {
   "cell_type": "code",
   "execution_count": 13,
   "id": "d14a6f13",
   "metadata": {},
   "outputs": [],
   "source": [
    "X = df[[\"cgpa\",\"profile_score\"]].values[0].reshape(2,1)\n",
    "y = df[[\"lpa\"]].values[0][0]"
   ]
  },
  {
   "cell_type": "code",
   "execution_count": 14,
   "id": "862d7667",
   "metadata": {},
   "outputs": [],
   "source": [
    "parameters = initialize_parameters([2,2,1])\n",
    "y_hat,A1 = L_layer_forward(X, parameters)"
   ]
  },
  {
   "cell_type": "code",
   "execution_count": 16,
   "id": "fedee3a1",
   "metadata": {},
   "outputs": [
    {
     "data": {
      "text/plain": [
       "(array([[0.32]]),\n",
       " array([[1.6],\n",
       "        [1.6]]))"
      ]
     },
     "execution_count": 16,
     "metadata": {},
     "output_type": "execute_result"
    }
   ],
   "source": [
    "y_hat,A1"
   ]
  },
  {
   "cell_type": "code",
   "execution_count": 19,
   "id": "42f9151a",
   "metadata": {},
   "outputs": [],
   "source": [
    "def update_parameters(parameters,y,y_hat,A1,X):\n",
    "  parameters['w2'][0][0] = parameters['w2'][0][0] + (0.001 * 2 * (y - y_hat)*A1[0][0])\n",
    "  parameters['w2'][1][0] = parameters['w2'][1][0] + (0.001 * 2 * (y - y_hat)*A1[1][0])\n",
    "  parameters['b2'][0][0] = parameters['w2'][1][0] + (0.001 * 2 * (y - y_hat))\n",
    "\n",
    "  parameters['w1'][0][0] = parameters['w1'][0][0] + (0.001 * 2 * (y - y_hat)*parameters['w2'][0][0]*X[0][0])\n",
    "  parameters['w1'][0][1] = parameters['w1'][0][1] + (0.001 * 2 * (y - y_hat)*parameters['w2'][0][0]*X[1][0])\n",
    "  parameters['b1'][0][0] = parameters['b1'][0][0] + (0.001 * 2 * (y - y_hat)*parameters['w2'][0][0])\n",
    "\n",
    "  parameters['w1'][1][0] = parameters['w1'][1][0] + (0.001 * 2 * (y - y_hat)*parameters['w2'][1][0]*X[0][0])\n",
    "  parameters['w1'][1][1] = parameters['w1'][1][1] + (0.001 * 2 * (y - y_hat)*parameters['w2'][1][0]*X[1][0])\n",
    "  parameters['b1'][1][0] = parameters['b1'][1][0] + (0.001 * 2 * (y - y_hat)*parameters['w2'][1][0])"
   ]
  },
  {
   "cell_type": "code",
   "execution_count": 20,
   "id": "fd21e88d",
   "metadata": {},
   "outputs": [
    {
     "name": "stderr",
     "output_type": "stream",
     "text": [
      "C:\\Users\\dipak\\AppData\\Local\\Temp\\ipykernel_5432\\177651305.py:2: DeprecationWarning: Conversion of an array with ndim > 0 to a scalar is deprecated, and will error in future. Ensure you extract a single element from your array before performing this operation. (Deprecated NumPy 1.25.)\n",
      "  parameters['w2'][0][0] = parameters['w2'][0][0] + (0.001 * 2 * (y - y_hat)*A1[0][0])\n",
      "C:\\Users\\dipak\\AppData\\Local\\Temp\\ipykernel_5432\\177651305.py:3: DeprecationWarning: Conversion of an array with ndim > 0 to a scalar is deprecated, and will error in future. Ensure you extract a single element from your array before performing this operation. (Deprecated NumPy 1.25.)\n",
      "  parameters['w2'][1][0] = parameters['w2'][1][0] + (0.001 * 2 * (y - y_hat)*A1[1][0])\n",
      "C:\\Users\\dipak\\AppData\\Local\\Temp\\ipykernel_5432\\177651305.py:4: DeprecationWarning: Conversion of an array with ndim > 0 to a scalar is deprecated, and will error in future. Ensure you extract a single element from your array before performing this operation. (Deprecated NumPy 1.25.)\n",
      "  parameters['b2'][0][0] = parameters['w2'][1][0] + (0.001 * 2 * (y - y_hat))\n",
      "C:\\Users\\dipak\\AppData\\Local\\Temp\\ipykernel_5432\\177651305.py:6: DeprecationWarning: Conversion of an array with ndim > 0 to a scalar is deprecated, and will error in future. Ensure you extract a single element from your array before performing this operation. (Deprecated NumPy 1.25.)\n",
      "  parameters['w1'][0][0] = parameters['w1'][0][0] + (0.001 * 2 * (y - y_hat)*parameters['w2'][0][0]*X[0][0])\n",
      "C:\\Users\\dipak\\AppData\\Local\\Temp\\ipykernel_5432\\177651305.py:7: DeprecationWarning: Conversion of an array with ndim > 0 to a scalar is deprecated, and will error in future. Ensure you extract a single element from your array before performing this operation. (Deprecated NumPy 1.25.)\n",
      "  parameters['w1'][0][1] = parameters['w1'][0][1] + (0.001 * 2 * (y - y_hat)*parameters['w2'][0][0]*X[1][0])\n",
      "C:\\Users\\dipak\\AppData\\Local\\Temp\\ipykernel_5432\\177651305.py:8: DeprecationWarning: Conversion of an array with ndim > 0 to a scalar is deprecated, and will error in future. Ensure you extract a single element from your array before performing this operation. (Deprecated NumPy 1.25.)\n",
      "  parameters['b1'][0][0] = parameters['b1'][0][0] + (0.001 * 2 * (y - y_hat)*parameters['w2'][0][0])\n",
      "C:\\Users\\dipak\\AppData\\Local\\Temp\\ipykernel_5432\\177651305.py:10: DeprecationWarning: Conversion of an array with ndim > 0 to a scalar is deprecated, and will error in future. Ensure you extract a single element from your array before performing this operation. (Deprecated NumPy 1.25.)\n",
      "  parameters['w1'][1][0] = parameters['w1'][1][0] + (0.001 * 2 * (y - y_hat)*parameters['w2'][1][0]*X[0][0])\n",
      "C:\\Users\\dipak\\AppData\\Local\\Temp\\ipykernel_5432\\177651305.py:11: DeprecationWarning: Conversion of an array with ndim > 0 to a scalar is deprecated, and will error in future. Ensure you extract a single element from your array before performing this operation. (Deprecated NumPy 1.25.)\n",
      "  parameters['w1'][1][1] = parameters['w1'][1][1] + (0.001 * 2 * (y - y_hat)*parameters['w2'][1][0]*X[1][0])\n",
      "C:\\Users\\dipak\\AppData\\Local\\Temp\\ipykernel_5432\\177651305.py:12: DeprecationWarning: Conversion of an array with ndim > 0 to a scalar is deprecated, and will error in future. Ensure you extract a single element from your array before performing this operation. (Deprecated NumPy 1.25.)\n",
      "  parameters['b1'][1][0] = parameters['b1'][1][0] + (0.001 * 2 * (y - y_hat)*parameters['w2'][1][0])\n"
     ]
    }
   ],
   "source": [
    "update_parameters(parameters,y,y_hat,A1,X)"
   ]
  },
  {
   "cell_type": "code",
   "execution_count": 21,
   "id": "a81b5dce",
   "metadata": {},
   "outputs": [
    {
     "data": {
      "text/plain": [
       "{'w1': array([[0.10658137, 0.10658137],\n",
       "        [0.10658137, 0.10658137]]),\n",
       " 'b1': array([[0.00082267],\n",
       "        [0.00082267]]),\n",
       " 'w2': array([[0.111776],\n",
       "        [0.111776]]),\n",
       " 'b2': array([[0.119136]])}"
      ]
     },
     "execution_count": 21,
     "metadata": {},
     "output_type": "execute_result"
    }
   ],
   "source": [
    "X = df[['cgpa', 'profile_score']].values[0].reshape(2,1) # Shape(no of features, no. of training example)\n",
    "y = df[['lpa']].values[0][0]\n",
    "\n",
    "# Parameter initialization\n",
    "parameters = initialize_parameters([2,2,1])\n",
    "\n",
    "y_hat,A1 = L_layer_forward(X,parameters)\n",
    "y_hat = y_hat[0][0]\n",
    "\n",
    "update_parameters(parameters,y,y_hat,A1,X)\n",
    "\n",
    "parameters"
   ]
  },
  {
   "cell_type": "code",
   "execution_count": 23,
   "id": "5e44ba02",
   "metadata": {},
   "outputs": [
    {
     "data": {
      "text/plain": [
       "{'w1': array([[0.11458955, 0.1168776 ],\n",
       "        [0.11458955, 0.1168776 ]]),\n",
       " 'b1': array([[0.0019667],\n",
       "        [0.0019667]]),\n",
       " 'w2': array([[0.12712927],\n",
       "        [0.12712927]]),\n",
       " 'b2': array([[0.13612818]])}"
      ]
     },
     "execution_count": 23,
     "metadata": {},
     "output_type": "execute_result"
    }
   ],
   "source": [
    "X = df[['cgpa', 'profile_score']].values[1].reshape(2,1) # Shape(no of features, no. of training exaplme)\n",
    "y = df[['lpa']].values[1][0]\n",
    "\n",
    "y_hat,A1 = L_layer_forward(X,parameters)\n",
    "y_hat = y_hat[0][0]\n",
    "\n",
    "update_parameters(parameters,y,y_hat,A1,X)\n",
    "\n",
    "parameters"
   ]
  },
  {
   "cell_type": "code",
   "execution_count": 24,
   "id": "5c36b041",
   "metadata": {},
   "outputs": [
    {
     "data": {
      "text/plain": [
       "{'w1': array([[0.12409711, 0.13272353],\n",
       "        [0.12412266, 0.13276611]]),\n",
       " 'b1': array([[0.00355129],\n",
       "        [0.00355555]]),\n",
       " 'w2': array([[0.14692424],\n",
       "        [0.14731907]]),\n",
       " 'b2': array([[0.15810417]])}"
      ]
     },
     "execution_count": 24,
     "metadata": {},
     "output_type": "execute_result"
    }
   ],
   "source": [
    "X = df[['cgpa', 'profile_score']].values[2].reshape(2,1) # Shape(no of features, no. of training exaplme)\n",
    "y = df[['lpa']].values[2][0]\n",
    "\n",
    "y_hat,A1 = L_layer_forward(X,parameters)\n",
    "y_hat = y_hat[0][0]\n",
    "\n",
    "update_parameters(parameters,y,y_hat,A1,X)\n",
    "\n",
    "parameters"
   ]
  },
  {
   "cell_type": "code",
   "execution_count": 25,
   "id": "4b904326",
   "metadata": {},
   "outputs": [
    {
     "data": {
      "text/plain": [
       "{'w1': array([[0.13482804, 0.15847776],\n",
       "        [0.1349909 , 0.15884991]]),\n",
       " 'b1': array([[0.00569748],\n",
       "        [0.0057292 ]]),\n",
       " 'w2': array([[0.17312488],\n",
       "        [0.17534027]]),\n",
       " 'b2': array([[0.18773702]])}"
      ]
     },
     "execution_count": 25,
     "metadata": {},
     "output_type": "execute_result"
    }
   ],
   "source": [
    "X = df[['cgpa', 'profile_score']].values[3].reshape(2,1) # Shape(no of features, no. of training exaplme)\n",
    "y = df[['lpa']].values[3][0]\n",
    "\n",
    "y_hat,A1 = L_layer_forward(X,parameters)\n",
    "y_hat = y_hat[0][0]\n",
    "\n",
    "update_parameters(parameters,y,y_hat,A1,X)\n",
    "\n",
    "parameters"
   ]
  },
  {
   "cell_type": "code",
   "execution_count": 28,
   "id": "01ef8931",
   "metadata": {},
   "outputs": [
    {
     "name": "stdout",
     "output_type": "stream",
     "text": [
      "Epoch -  1 Loss -  44.3556\n",
      "Epoch -  2 Loss -  40.816044075616595\n",
      "Epoch -  3 Loss -  38.26347277055491\n",
      "Epoch -  4 Loss -  35.07010878228534\n",
      "Epoch -  5 Loss -  31.193563004499538\n"
     ]
    }
   ],
   "source": [
    "# epochs Implementation\n",
    "\n",
    "parameters = initialize_parameters([2,2,1])\n",
    "epochs = 5\n",
    "\n",
    "for i in range(epochs):\n",
    "    Loss = []\n",
    "\n",
    "    for j in range(df.shape[0]):\n",
    "        X = df[[\"cgpa\",\"profile_score\"]].values[j].reshape(2,1)\n",
    "        y = df[[\"lpa\"]].values[j][0]\n",
    "\n",
    "    # Parameter initialization \n",
    "\n",
    "    y_hat,A1 = L_layer_forward(X,parameters)\n",
    "    y_hat = y_hat[0][0]\n",
    "\n",
    "    update_parameters(parameters, y, y_hat, A1, X)\n",
    "    Loss.append((y-y_hat)**2)\n",
    "    print('Epoch - ',i+1,'Loss - ',np.array(Loss).mean())"
   ]
  },
  {
   "cell_type": "code",
   "execution_count": 29,
   "id": "9697f376",
   "metadata": {},
   "outputs": [
    {
     "data": {
      "text/plain": [
       "{'w1': array([[0.15223457, 0.22536296],\n",
       "        [0.15528277, 0.23267864]]),\n",
       " 'b1': array([[0.01044691],\n",
       "        [0.01105655]]),\n",
       " 'w2': array([[0.22372031],\n",
       "        [0.25029677]]),\n",
       " 'b2': array([[0.26146701]])}"
      ]
     },
     "execution_count": 29,
     "metadata": {},
     "output_type": "execute_result"
    }
   ],
   "source": [
    "parameters"
   ]
  },
  {
   "cell_type": "code",
   "execution_count": null,
   "id": "97d5e67e",
   "metadata": {},
   "outputs": [],
   "source": []
  }
 ],
 "metadata": {
  "kernelspec": {
   "display_name": "env2",
   "language": "python",
   "name": "python3"
  },
  "language_info": {
   "codemirror_mode": {
    "name": "ipython",
    "version": 3
   },
   "file_extension": ".py",
   "mimetype": "text/x-python",
   "name": "python",
   "nbconvert_exporter": "python",
   "pygments_lexer": "ipython3",
   "version": "3.12.3"
  }
 },
 "nbformat": 4,
 "nbformat_minor": 5
}
